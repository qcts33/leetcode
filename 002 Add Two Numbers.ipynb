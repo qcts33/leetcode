{
 "cells": [
  {
   "cell_type": "markdown",
   "metadata": {},
   "source": [
    "# Add Two Numbers\n",
    "You are given two **non-empty** linked lists representing two non-negative integers. The digits are stored in reverse order and each of their nodes contain a single digit. Add the two numbers and return it as a linked list.\n",
    "\n",
    "You may assume the two numbers do not contain any leading zero, except the number 0 itself.\n",
    "\n",
    "Input: ```(2 -> 4 -> 3) + (5 -> 6 -> 4)```\n",
    "\n",
    "Output: ```7 -> 0 -> 8```"
   ]
  },
  {
   "cell_type": "code",
   "execution_count": 1,
   "metadata": {
    "collapsed": true
   },
   "outputs": [],
   "source": [
    "# Definition for singly-linked list.\n",
    "class ListNode(object):\n",
    "    def __init__(self, x):\n",
    "        self.val = x\n",
    "        self.next = None"
   ]
  },
  {
   "cell_type": "code",
   "execution_count": 4,
   "metadata": {
    "collapsed": true
   },
   "outputs": [],
   "source": [
    "def get_link(ll):\n",
    "    head = ListNode(ll[0])\n",
    "    p = head\n",
    "    for x in ll[1:]:\n",
    "        p.next = ListNode(x)\n",
    "        p = p.next\n",
    "    return head"
   ]
  },
  {
   "cell_type": "code",
   "execution_count": 5,
   "metadata": {
    "collapsed": true
   },
   "outputs": [],
   "source": [
    "def print_link(head):\n",
    "    p = head\n",
    "    while p.next:\n",
    "        print(p.val)\n",
    "        p = p.next\n",
    "    print(p.val)"
   ]
  },
  {
   "cell_type": "code",
   "execution_count": 32,
   "metadata": {
    "collapsed": true
   },
   "outputs": [],
   "source": [
    "ll1 = [2, 4, 3, 5]\n",
    "ll2 = [5, 6, 4, 5]"
   ]
  },
  {
   "cell_type": "code",
   "execution_count": 33,
   "metadata": {},
   "outputs": [],
   "source": [
    "l1 = get_link(ll1)\n",
    "l2 = get_link(ll2)"
   ]
  },
  {
   "cell_type": "code",
   "execution_count": 35,
   "metadata": {
    "collapsed": true
   },
   "outputs": [],
   "source": [
    "class Solution(object):\n",
    "    def addTwoNumbers(self, l1, l2):\n",
    "        \"\"\"\n",
    "        :type l1: ListNode\n",
    "        :type l2: ListNode\n",
    "        :rtype: ListNode\n",
    "        \"\"\"\n",
    "        p1 = l1\n",
    "        p2 = l2\n",
    "        x = p1.val + p2.val\n",
    "        head = ListNode(x%10)\n",
    "        p = head\n",
    "        p1 = p1.next\n",
    "        p2 = p2.next\n",
    "        while p1 or p2:\n",
    "            try:\n",
    "                v1 = p1.val\n",
    "            except:\n",
    "                v1 = 0\n",
    "            try:\n",
    "                v2 = p2.val\n",
    "            except:\n",
    "                v2 = 0\n",
    "            x = v1 + v2 + x//10\n",
    "            p.next = ListNode(x%10)\n",
    "            p = p.next\n",
    "            try:\n",
    "                p1 = p1.next\n",
    "            except:\n",
    "                p1 = None\n",
    "            try:\n",
    "                p2 = p2.next\n",
    "            except:\n",
    "                p2 = None\n",
    "        if x >= 10:\n",
    "            p.next = ListNode(x//10)\n",
    "        return head\n",
    "s = Solution()"
   ]
  },
  {
   "cell_type": "code",
   "execution_count": 36,
   "metadata": {},
   "outputs": [
    {
     "name": "stdout",
     "output_type": "stream",
     "text": [
      "7\n",
      "0\n",
      "8\n",
      "0\n",
      "1\n"
     ]
    }
   ],
   "source": [
    "r = s.addTwoNumbers(l1, l2)\n",
    "print_link(r)"
   ]
  },
  {
   "cell_type": "code",
   "execution_count": 20,
   "metadata": {},
   "outputs": [
    {
     "name": "stdout",
     "output_type": "stream",
     "text": [
      "None\n"
     ]
    }
   ],
   "source": [
    "print(r)"
   ]
  },
  {
   "cell_type": "code",
   "execution_count": null,
   "metadata": {
    "collapsed": true
   },
   "outputs": [],
   "source": []
  }
 ],
 "metadata": {
  "kernelspec": {
   "display_name": "Python 3",
   "language": "python",
   "name": "python3"
  },
  "language_info": {
   "codemirror_mode": {
    "name": "ipython",
    "version": 3
   },
   "file_extension": ".py",
   "mimetype": "text/x-python",
   "name": "python",
   "nbconvert_exporter": "python",
   "pygments_lexer": "ipython3",
   "version": "3.6.1"
  }
 },
 "nbformat": 4,
 "nbformat_minor": 2
}
